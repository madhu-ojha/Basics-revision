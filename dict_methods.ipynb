{
 "cells": [
  {
   "cell_type": "code",
   "execution_count": 3,
   "metadata": {},
   "outputs": [
    {
     "name": "stdout",
     "output_type": "stream",
     "text": [
      "{1: 'one', 2: 'two', 3: 'three', 4: 'four', 5: 'five'}\n",
      "{}\n"
     ]
    }
   ],
   "source": [
    "# clear method\n",
    "numdict = {1:'one',2:'two',3:'three',4:'four',5:'five'}\n",
    "print(numdict)\n",
    "numdict.clear()\n",
    "print(numdict)"
   ]
  },
  {
   "cell_type": "code",
   "execution_count": 14,
   "metadata": {},
   "outputs": [
    {
     "ename": "AttributeError",
     "evalue": "'NoneType' object has no attribute 'fromkeys'",
     "output_type": "error",
     "traceback": [
      "\u001b[1;31m---------------------------------------------------------------------------\u001b[0m",
      "\u001b[1;31mAttributeError\u001b[0m                            Traceback (most recent call last)",
      "Cell \u001b[1;32mIn[14], line 2\u001b[0m\n\u001b[0;32m      1\u001b[0m \u001b[39m# fromkeys method\u001b[39;00m\n\u001b[1;32m----> 2\u001b[0m chDict \u001b[39m=\u001b[39m \u001b[39mdict\u001b[39;49m\u001b[39m.\u001b[39;49mfromkeys(\u001b[39m'\u001b[39m\u001b[39mHello\u001b[39m\u001b[39m'\u001b[39m,\u001b[39m'\u001b[39m\u001b[39mchar\u001b[39m\u001b[39m'\u001b[39m) \u001b[39m# string to dict\u001b[39;00m\n\u001b[0;32m      3\u001b[0m \u001b[39mprint\u001b[39m(chDict)\n\u001b[0;32m      5\u001b[0m nums \u001b[39m=\u001b[39m (\u001b[39m1\u001b[39m, \u001b[39m2\u001b[39m, \u001b[39m3\u001b[39m, \u001b[39m4\u001b[39m, \u001b[39m5\u001b[39m) \u001b[39m# tuple to dict\u001b[39;00m\n",
      "\u001b[1;31mAttributeError\u001b[0m: 'NoneType' object has no attribute 'fromkeys'"
     ]
    }
   ],
   "source": [
    "# fromkeys method\n"
   ]
  },
  {
   "cell_type": "code",
   "execution_count": 15,
   "metadata": {},
   "outputs": [
    {
     "name": "stdout",
     "output_type": "stream",
     "text": [
      "I =  1\n"
     ]
    }
   ],
   "source": [
    "#get methods\n",
    "romanNums = {'I':1, 'II':2, 'III':3, 'IV':4, 'V':5 }\n",
    "value = romanNums.get('I')\n",
    "print(\"I = \",value)"
   ]
  },
  {
   "cell_type": "code",
   "execution_count": 21,
   "metadata": {},
   "outputs": [
    {
     "name": "stdout",
     "output_type": "stream",
     "text": [
      "dict_items([('I', 1), ('II', 2), ('III', 3), ('IV', 4)])\n",
      "dict_items([('I', 1), ('II', 2), ('III', 3), ('IV', 4), ('V', 5)])\n"
     ]
    }
   ],
   "source": [
    "# items method\n",
    "romanNums = {'I':1,'II':2,'III':3,'IV':4}\n",
    "print(romanNums.items())\n",
    "romanNums['V'] = 5\n",
    "print(romanNums.items())\n"
   ]
  },
  {
   "cell_type": "code",
   "execution_count": 22,
   "metadata": {},
   "outputs": [
    {
     "name": "stdout",
     "output_type": "stream",
     "text": [
      "dict_keys(['I', 'II', 'III', 'IV'])\n"
     ]
    }
   ],
   "source": [
    "# keys method\n",
    "romanNums = {'I':1,'II':2,'III':3,'IV':4}\n",
    "print(romanNums.keys())"
   ]
  },
  {
   "cell_type": "code",
   "execution_count": 24,
   "metadata": {},
   "outputs": [
    {
     "name": "stdout",
     "output_type": "stream",
     "text": [
      "4\n",
      "{'I': 1, 'II': 2, 'III': 3}\n"
     ]
    }
   ],
   "source": [
    "# pop method\n",
    "romanNums = {'I':1,'II':2,'III':3,'IV':4}\n",
    "print(romanNums.pop('IV'))\n",
    "print(romanNums)"
   ]
  },
  {
   "cell_type": "code",
   "execution_count": 27,
   "metadata": {},
   "outputs": [
    {
     "name": "stdout",
     "output_type": "stream",
     "text": [
      "('IV', 4)\n",
      "('III', 3)\n",
      "{'I': 1, 'II': 2}\n"
     ]
    }
   ],
   "source": [
    "# pop item\n",
    "romanNums = {'I':1,'II':2,'III':3,'IV':4}\n",
    "\n",
    "print(romanNums.popitem())\n",
    "print(romanNums.popitem())\n",
    "print(romanNums)"
   ]
  },
  {
   "cell_type": "code",
   "execution_count": 30,
   "metadata": {},
   "outputs": [
    {
     "name": "stdout",
     "output_type": "stream",
     "text": [
      "3\n",
      "{'I': 1, 'II': 2, 'III': 3, 'IV': 4}\n"
     ]
    }
   ],
   "source": [
    "# setdefault method\n",
    "romanNums = {'I':1,'II':2,'III':3,'IV':4}\n",
    "value = romanNums.setdefault('III')\n",
    "print(value)\n",
    "print(romanNums)"
   ]
  },
  {
   "cell_type": "code",
   "execution_count": 33,
   "metadata": {},
   "outputs": [
    {
     "name": "stdout",
     "output_type": "stream",
     "text": [
      "{'I': 1, 'II': 2, 'III': 3, 'IV': 4}\n",
      "{'I': 1, 'II': 2, 'III': 3, 'IV': 4, 'V': 5, 'VI': 6}\n"
     ]
    }
   ],
   "source": [
    "# update method\n",
    "romanNums = {'I':1,'II':2,'III':3,'IV':4}\n",
    "print(romanNums)\n",
    "new_dict = {'V':5, 'VI':6}\n",
    "romanNums.update(new_dict)\n",
    "print(romanNums)"
   ]
  },
  {
   "cell_type": "code",
   "execution_count": 34,
   "metadata": {},
   "outputs": [
    {
     "name": "stdout",
     "output_type": "stream",
     "text": [
      "dict_values([1, 2, 3, 4])\n"
     ]
    }
   ],
   "source": [
    "# values method\n",
    "romanNums = {'I':1,'II':2,'III':3,'IV':4}\n",
    "print(romanNums.values())"
   ]
  },
  {
   "cell_type": "code",
   "execution_count": null,
   "metadata": {},
   "outputs": [],
   "source": []
  }
 ],
 "metadata": {
  "kernelspec": {
   "display_name": "Python 3",
   "language": "python",
   "name": "python3"
  },
  "language_info": {
   "codemirror_mode": {
    "name": "ipython",
    "version": 3
   },
   "file_extension": ".py",
   "mimetype": "text/x-python",
   "name": "python",
   "nbconvert_exporter": "python",
   "pygments_lexer": "ipython3",
   "version": "3.11.4"
  },
  "orig_nbformat": 4
 },
 "nbformat": 4,
 "nbformat_minor": 2
}
